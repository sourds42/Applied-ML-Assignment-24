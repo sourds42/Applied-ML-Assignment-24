{
  "cells": [
    {
      "cell_type": "code",
      "execution_count": 1,
      "metadata": {
        "id": "WB7eHRWn_LRV"
      },
      "outputs": [],
      "source": [
        "import matplotlib.pyplot as plt\n",
        "import csv\n",
        "from textblob import TextBlob\n",
        "import pandas as pd\n",
        "import sklearn\n",
        "import numpy as np\n",
        "from sklearn.feature_extraction.text import CountVectorizer, TfidfTransformer\n",
        "from sklearn.svm import SVC, LinearSVC\n",
        "from sklearn.metrics import classification_report, f1_score, accuracy_score, confusion_matrix\n",
        "from sklearn.pipeline import Pipeline\n",
        "from sklearn.model_selection import GridSearchCV\n",
        "from sklearn.model_selection import StratifiedKFold, cross_val_score, train_test_split\n",
        "from sklearn.tree import DecisionTreeClassifier\n",
        "from sklearn.model_selection import learning_curve\n",
        "from nltk.corpus import stopwords\n",
        "from nltk.tokenize import word_tokenize\n",
        "import os\n",
        "from sklearn.ensemble import RandomForestClassifier\n",
        "from sklearn.linear_model import LogisticRegression\n",
        "from sklearn.svm import SVC\n",
        "from sklearn.metrics import accuracy_score, precision_score, recall_score\n",
        "from sklearn.model_selection import GridSearchCV\n",
        "import numpy as np\n",
        "from sklearn.ensemble import RandomForestClassifier\n",
        "from sklearn.linear_model import LogisticRegression\n",
        "from sklearn.svm import SVC\n",
        "from sklearn.metrics import accuracy_score, precision_score, recall_score\n",
        "from sklearn.model_selection import GridSearchCV\n",
        "\n",
        "\n",
        "from mlflow.tracking import MlflowClient\n",
        "from urllib.parse import urlparse\n",
        "from sklearn.svm import SVC\n",
        "from sklearn.metrics._plot.precision_recall_curve import precision_recall_curve"
      ]
    },
    {
      "cell_type": "code",
      "execution_count": 28,
      "metadata": {},
      "outputs": [
        {
          "name": "stdout",
          "output_type": "stream",
          "text": [
            "Requirement already satisfied: matplotlib in c:\\users\\asus\\appdata\\local\\packages\\pythonsoftwarefoundation.python.3.11_qbz5n2kfra8p0\\localcache\\local-packages\\python311\\site-packages (3.8.3)\n",
            "Requirement already satisfied: contourpy>=1.0.1 in c:\\users\\asus\\appdata\\local\\packages\\pythonsoftwarefoundation.python.3.11_qbz5n2kfra8p0\\localcache\\local-packages\\python311\\site-packages (from matplotlib) (1.2.0)\n",
            "Requirement already satisfied: cycler>=0.10 in c:\\users\\asus\\appdata\\local\\packages\\pythonsoftwarefoundation.python.3.11_qbz5n2kfra8p0\\localcache\\local-packages\\python311\\site-packages (from matplotlib) (0.12.1)\n",
            "Requirement already satisfied: fonttools>=4.22.0 in c:\\users\\asus\\appdata\\local\\packages\\pythonsoftwarefoundation.python.3.11_qbz5n2kfra8p0\\localcache\\local-packages\\python311\\site-packages (from matplotlib) (4.49.0)\n",
            "Requirement already satisfied: kiwisolver>=1.3.1 in c:\\users\\asus\\appdata\\local\\packages\\pythonsoftwarefoundation.python.3.11_qbz5n2kfra8p0\\localcache\\local-packages\\python311\\site-packages (from matplotlib) (1.4.5)\n",
            "Requirement already satisfied: numpy<2,>=1.21 in c:\\users\\asus\\appdata\\local\\packages\\pythonsoftwarefoundation.python.3.11_qbz5n2kfra8p0\\localcache\\local-packages\\python311\\site-packages (from matplotlib) (1.25.2)\n",
            "Requirement already satisfied: packaging>=20.0 in c:\\users\\asus\\appdata\\local\\packages\\pythonsoftwarefoundation.python.3.11_qbz5n2kfra8p0\\localcache\\local-packages\\python311\\site-packages (from matplotlib) (23.2)\n",
            "Requirement already satisfied: pillow>=8 in c:\\users\\asus\\appdata\\local\\packages\\pythonsoftwarefoundation.python.3.11_qbz5n2kfra8p0\\localcache\\local-packages\\python311\\site-packages (from matplotlib) (10.2.0)\n",
            "Requirement already satisfied: pyparsing>=2.3.1 in c:\\users\\asus\\appdata\\local\\packages\\pythonsoftwarefoundation.python.3.11_qbz5n2kfra8p0\\localcache\\local-packages\\python311\\site-packages (from matplotlib) (3.1.1)\n",
            "Requirement already satisfied: python-dateutil>=2.7 in c:\\users\\asus\\appdata\\local\\packages\\pythonsoftwarefoundation.python.3.11_qbz5n2kfra8p0\\localcache\\local-packages\\python311\\site-packages (from matplotlib) (2.8.2)\n",
            "Requirement already satisfied: six>=1.5 in c:\\users\\asus\\appdata\\local\\packages\\pythonsoftwarefoundation.python.3.11_qbz5n2kfra8p0\\localcache\\local-packages\\python311\\site-packages (from python-dateutil>=2.7->matplotlib) (1.16.0)\n"
          ]
        }
      ],
      "source": [
        "!pip install matplotlib\n"
      ]
    },
    {
      "cell_type": "code",
      "execution_count": 29,
      "metadata": {},
      "outputs": [
        {
          "name": "stdout",
          "output_type": "stream",
          "text": [
            "Requirement already satisfied: textblob in c:\\users\\asus\\appdata\\local\\packages\\pythonsoftwarefoundation.python.3.11_qbz5n2kfra8p0\\localcache\\local-packages\\python311\\site-packages (0.18.0.post0)\n",
            "Requirement already satisfied: nltk>=3.8 in c:\\users\\asus\\appdata\\local\\packages\\pythonsoftwarefoundation.python.3.11_qbz5n2kfra8p0\\localcache\\local-packages\\python311\\site-packages (from textblob) (3.8.1)\n",
            "Requirement already satisfied: click in c:\\users\\asus\\appdata\\local\\packages\\pythonsoftwarefoundation.python.3.11_qbz5n2kfra8p0\\localcache\\local-packages\\python311\\site-packages (from nltk>=3.8->textblob) (8.1.7)\n",
            "Requirement already satisfied: joblib in c:\\users\\asus\\appdata\\local\\packages\\pythonsoftwarefoundation.python.3.11_qbz5n2kfra8p0\\localcache\\local-packages\\python311\\site-packages (from nltk>=3.8->textblob) (1.3.2)\n",
            "Requirement already satisfied: regex>=2021.8.3 in c:\\users\\asus\\appdata\\local\\packages\\pythonsoftwarefoundation.python.3.11_qbz5n2kfra8p0\\localcache\\local-packages\\python311\\site-packages (from nltk>=3.8->textblob) (2023.12.25)\n",
            "Requirement already satisfied: tqdm in c:\\users\\asus\\appdata\\local\\packages\\pythonsoftwarefoundation.python.3.11_qbz5n2kfra8p0\\localcache\\local-packages\\python311\\site-packages (from nltk>=3.8->textblob) (4.66.2)\n",
            "Requirement already satisfied: colorama in c:\\users\\asus\\appdata\\local\\packages\\pythonsoftwarefoundation.python.3.11_qbz5n2kfra8p0\\localcache\\local-packages\\python311\\site-packages (from click->nltk>=3.8->textblob) (0.4.6)\n",
            "Requirement already satisfied: pandas in c:\\users\\asus\\appdata\\local\\packages\\pythonsoftwarefoundation.python.3.11_qbz5n2kfra8p0\\localcache\\local-packages\\python311\\site-packages (2.2.0)\n",
            "Requirement already satisfied: numpy<2,>=1.23.2 in c:\\users\\asus\\appdata\\local\\packages\\pythonsoftwarefoundation.python.3.11_qbz5n2kfra8p0\\localcache\\local-packages\\python311\\site-packages (from pandas) (1.25.2)\n",
            "Requirement already satisfied: python-dateutil>=2.8.2 in c:\\users\\asus\\appdata\\local\\packages\\pythonsoftwarefoundation.python.3.11_qbz5n2kfra8p0\\localcache\\local-packages\\python311\\site-packages (from pandas) (2.8.2)\n",
            "Requirement already satisfied: pytz>=2020.1 in c:\\users\\asus\\appdata\\local\\packages\\pythonsoftwarefoundation.python.3.11_qbz5n2kfra8p0\\localcache\\local-packages\\python311\\site-packages (from pandas) (2023.4)\n",
            "Requirement already satisfied: tzdata>=2022.7 in c:\\users\\asus\\appdata\\local\\packages\\pythonsoftwarefoundation.python.3.11_qbz5n2kfra8p0\\localcache\\local-packages\\python311\\site-packages (from pandas) (2024.1)\n",
            "Requirement already satisfied: six>=1.5 in c:\\users\\asus\\appdata\\local\\packages\\pythonsoftwarefoundation.python.3.11_qbz5n2kfra8p0\\localcache\\local-packages\\python311\\site-packages (from python-dateutil>=2.8.2->pandas) (1.16.0)\n",
            "Requirement already satisfied: scikit-learn in c:\\users\\asus\\appdata\\local\\packages\\pythonsoftwarefoundation.python.3.11_qbz5n2kfra8p0\\localcache\\local-packages\\python311\\site-packages (1.4.1.post1)\n",
            "Requirement already satisfied: numpy<2.0,>=1.19.5 in c:\\users\\asus\\appdata\\local\\packages\\pythonsoftwarefoundation.python.3.11_qbz5n2kfra8p0\\localcache\\local-packages\\python311\\site-packages (from scikit-learn) (1.25.2)\n",
            "Requirement already satisfied: scipy>=1.6.0 in c:\\users\\asus\\appdata\\local\\packages\\pythonsoftwarefoundation.python.3.11_qbz5n2kfra8p0\\localcache\\local-packages\\python311\\site-packages (from scikit-learn) (1.12.0)\n",
            "Requirement already satisfied: joblib>=1.2.0 in c:\\users\\asus\\appdata\\local\\packages\\pythonsoftwarefoundation.python.3.11_qbz5n2kfra8p0\\localcache\\local-packages\\python311\\site-packages (from scikit-learn) (1.3.2)\n",
            "Requirement already satisfied: threadpoolctl>=2.0.0 in c:\\users\\asus\\appdata\\local\\packages\\pythonsoftwarefoundation.python.3.11_qbz5n2kfra8p0\\localcache\\local-packages\\python311\\site-packages (from scikit-learn) (3.3.0)\n",
            "Requirement already satisfied: nltk in c:\\users\\asus\\appdata\\local\\packages\\pythonsoftwarefoundation.python.3.11_qbz5n2kfra8p0\\localcache\\local-packages\\python311\\site-packages (3.8.1)\n",
            "Requirement already satisfied: click in c:\\users\\asus\\appdata\\local\\packages\\pythonsoftwarefoundation.python.3.11_qbz5n2kfra8p0\\localcache\\local-packages\\python311\\site-packages (from nltk) (8.1.7)\n",
            "Requirement already satisfied: joblib in c:\\users\\asus\\appdata\\local\\packages\\pythonsoftwarefoundation.python.3.11_qbz5n2kfra8p0\\localcache\\local-packages\\python311\\site-packages (from nltk) (1.3.2)\n",
            "Requirement already satisfied: regex>=2021.8.3 in c:\\users\\asus\\appdata\\local\\packages\\pythonsoftwarefoundation.python.3.11_qbz5n2kfra8p0\\localcache\\local-packages\\python311\\site-packages (from nltk) (2023.12.25)\n",
            "Requirement already satisfied: tqdm in c:\\users\\asus\\appdata\\local\\packages\\pythonsoftwarefoundation.python.3.11_qbz5n2kfra8p0\\localcache\\local-packages\\python311\\site-packages (from nltk) (4.66.2)\n",
            "Requirement already satisfied: colorama in c:\\users\\asus\\appdata\\local\\packages\\pythonsoftwarefoundation.python.3.11_qbz5n2kfra8p0\\localcache\\local-packages\\python311\\site-packages (from click->nltk) (0.4.6)\n"
          ]
        }
      ],
      "source": [
        "!pip install textblob\n",
        "!pip install pandas\n",
        "!pip install scikit-learn\n",
        "!pip install nltk\n"
      ]
    },
    {
      "cell_type": "code",
      "execution_count": 30,
      "metadata": {},
      "outputs": [
        {
          "name": "stdout",
          "output_type": "stream",
          "text": [
            "Requirement already satisfied: mlflow in c:\\users\\asus\\appdata\\local\\packages\\pythonsoftwarefoundation.python.3.11_qbz5n2kfra8p0\\localcache\\local-packages\\python311\\site-packages (2.10.2)\n",
            "Requirement already satisfied: click<9,>=7.0 in c:\\users\\asus\\appdata\\local\\packages\\pythonsoftwarefoundation.python.3.11_qbz5n2kfra8p0\\localcache\\local-packages\\python311\\site-packages (from mlflow) (8.1.7)\n",
            "Requirement already satisfied: cloudpickle<4 in c:\\users\\asus\\appdata\\local\\packages\\pythonsoftwarefoundation.python.3.11_qbz5n2kfra8p0\\localcache\\local-packages\\python311\\site-packages (from mlflow) (3.0.0)\n",
            "Requirement already satisfied: entrypoints<1 in c:\\users\\asus\\appdata\\local\\packages\\pythonsoftwarefoundation.python.3.11_qbz5n2kfra8p0\\localcache\\local-packages\\python311\\site-packages (from mlflow) (0.4)\n",
            "Requirement already satisfied: gitpython<4,>=2.1.0 in c:\\users\\asus\\appdata\\local\\packages\\pythonsoftwarefoundation.python.3.11_qbz5n2kfra8p0\\localcache\\local-packages\\python311\\site-packages (from mlflow) (3.1.42)\n",
            "Requirement already satisfied: pyyaml<7,>=5.1 in c:\\users\\asus\\appdata\\local\\packages\\pythonsoftwarefoundation.python.3.11_qbz5n2kfra8p0\\localcache\\local-packages\\python311\\site-packages (from mlflow) (6.0.1)\n",
            "Requirement already satisfied: protobuf<5,>=3.12.0 in c:\\users\\asus\\appdata\\local\\packages\\pythonsoftwarefoundation.python.3.11_qbz5n2kfra8p0\\localcache\\local-packages\\python311\\site-packages (from mlflow) (4.25.3)\n",
            "Requirement already satisfied: pytz<2024 in c:\\users\\asus\\appdata\\local\\packages\\pythonsoftwarefoundation.python.3.11_qbz5n2kfra8p0\\localcache\\local-packages\\python311\\site-packages (from mlflow) (2023.4)\n",
            "Requirement already satisfied: requests<3,>=2.17.3 in c:\\users\\asus\\appdata\\local\\packages\\pythonsoftwarefoundation.python.3.11_qbz5n2kfra8p0\\localcache\\local-packages\\python311\\site-packages (from mlflow) (2.31.0)\n",
            "Requirement already satisfied: packaging<24 in c:\\users\\asus\\appdata\\local\\packages\\pythonsoftwarefoundation.python.3.11_qbz5n2kfra8p0\\localcache\\local-packages\\python311\\site-packages (from mlflow) (23.2)\n",
            "Requirement already satisfied: importlib-metadata!=4.7.0,<8,>=3.7.0 in c:\\users\\asus\\appdata\\local\\packages\\pythonsoftwarefoundation.python.3.11_qbz5n2kfra8p0\\localcache\\local-packages\\python311\\site-packages (from mlflow) (7.0.1)\n",
            "Requirement already satisfied: sqlparse<1,>=0.4.0 in c:\\users\\asus\\appdata\\local\\packages\\pythonsoftwarefoundation.python.3.11_qbz5n2kfra8p0\\localcache\\local-packages\\python311\\site-packages (from mlflow) (0.4.4)\n",
            "Requirement already satisfied: alembic!=1.10.0,<2 in c:\\users\\asus\\appdata\\local\\packages\\pythonsoftwarefoundation.python.3.11_qbz5n2kfra8p0\\localcache\\local-packages\\python311\\site-packages (from mlflow) (1.13.1)\n",
            "Requirement already satisfied: docker<8,>=4.0.0 in c:\\users\\asus\\appdata\\local\\packages\\pythonsoftwarefoundation.python.3.11_qbz5n2kfra8p0\\localcache\\local-packages\\python311\\site-packages (from mlflow) (7.0.0)\n",
            "Requirement already satisfied: Flask<4 in c:\\users\\asus\\appdata\\local\\packages\\pythonsoftwarefoundation.python.3.11_qbz5n2kfra8p0\\localcache\\local-packages\\python311\\site-packages (from mlflow) (3.0.2)\n",
            "Requirement already satisfied: numpy<2 in c:\\users\\asus\\appdata\\local\\packages\\pythonsoftwarefoundation.python.3.11_qbz5n2kfra8p0\\localcache\\local-packages\\python311\\site-packages (from mlflow) (1.25.2)\n",
            "Requirement already satisfied: scipy<2 in c:\\users\\asus\\appdata\\local\\packages\\pythonsoftwarefoundation.python.3.11_qbz5n2kfra8p0\\localcache\\local-packages\\python311\\site-packages (from mlflow) (1.12.0)\n",
            "Requirement already satisfied: pandas<3 in c:\\users\\asus\\appdata\\local\\packages\\pythonsoftwarefoundation.python.3.11_qbz5n2kfra8p0\\localcache\\local-packages\\python311\\site-packages (from mlflow) (2.2.0)\n",
            "Requirement already satisfied: querystring-parser<2 in c:\\users\\asus\\appdata\\local\\packages\\pythonsoftwarefoundation.python.3.11_qbz5n2kfra8p0\\localcache\\local-packages\\python311\\site-packages (from mlflow) (1.2.4)\n",
            "Requirement already satisfied: sqlalchemy<3,>=1.4.0 in c:\\users\\asus\\appdata\\local\\packages\\pythonsoftwarefoundation.python.3.11_qbz5n2kfra8p0\\localcache\\local-packages\\python311\\site-packages (from mlflow) (2.0.27)\n",
            "Requirement already satisfied: scikit-learn<2 in c:\\users\\asus\\appdata\\local\\packages\\pythonsoftwarefoundation.python.3.11_qbz5n2kfra8p0\\localcache\\local-packages\\python311\\site-packages (from mlflow) (1.4.1.post1)\n",
            "Requirement already satisfied: pyarrow<16,>=4.0.0 in c:\\users\\asus\\appdata\\local\\packages\\pythonsoftwarefoundation.python.3.11_qbz5n2kfra8p0\\localcache\\local-packages\\python311\\site-packages (from mlflow) (15.0.0)\n",
            "Requirement already satisfied: markdown<4,>=3.3 in c:\\users\\asus\\appdata\\local\\packages\\pythonsoftwarefoundation.python.3.11_qbz5n2kfra8p0\\localcache\\local-packages\\python311\\site-packages (from mlflow) (3.5.2)\n",
            "Requirement already satisfied: matplotlib<4 in c:\\users\\asus\\appdata\\local\\packages\\pythonsoftwarefoundation.python.3.11_qbz5n2kfra8p0\\localcache\\local-packages\\python311\\site-packages (from mlflow) (3.8.3)\n",
            "Requirement already satisfied: waitress<3 in c:\\users\\asus\\appdata\\local\\packages\\pythonsoftwarefoundation.python.3.11_qbz5n2kfra8p0\\localcache\\local-packages\\python311\\site-packages (from mlflow) (2.1.2)\n",
            "Requirement already satisfied: Jinja2<4,>=3.0 in c:\\users\\asus\\appdata\\local\\packages\\pythonsoftwarefoundation.python.3.11_qbz5n2kfra8p0\\localcache\\local-packages\\python311\\site-packages (from mlflow) (3.1.3)\n",
            "Requirement already satisfied: Mako in c:\\users\\asus\\appdata\\local\\packages\\pythonsoftwarefoundation.python.3.11_qbz5n2kfra8p0\\localcache\\local-packages\\python311\\site-packages (from alembic!=1.10.0,<2->mlflow) (1.3.2)\n",
            "Requirement already satisfied: typing-extensions>=4 in c:\\users\\asus\\appdata\\local\\packages\\pythonsoftwarefoundation.python.3.11_qbz5n2kfra8p0\\localcache\\local-packages\\python311\\site-packages (from alembic!=1.10.0,<2->mlflow) (4.9.0)\n",
            "Requirement already satisfied: colorama in c:\\users\\asus\\appdata\\local\\packages\\pythonsoftwarefoundation.python.3.11_qbz5n2kfra8p0\\localcache\\local-packages\\python311\\site-packages (from click<9,>=7.0->mlflow) (0.4.6)\n",
            "Requirement already satisfied: urllib3>=1.26.0 in c:\\users\\asus\\appdata\\local\\packages\\pythonsoftwarefoundation.python.3.11_qbz5n2kfra8p0\\localcache\\local-packages\\python311\\site-packages (from docker<8,>=4.0.0->mlflow) (2.2.1)\n",
            "Requirement already satisfied: pywin32>=304 in c:\\users\\asus\\appdata\\local\\packages\\pythonsoftwarefoundation.python.3.11_qbz5n2kfra8p0\\localcache\\local-packages\\python311\\site-packages (from docker<8,>=4.0.0->mlflow) (306)\n",
            "Requirement already satisfied: Werkzeug>=3.0.0 in c:\\users\\asus\\appdata\\local\\packages\\pythonsoftwarefoundation.python.3.11_qbz5n2kfra8p0\\localcache\\local-packages\\python311\\site-packages (from Flask<4->mlflow) (3.0.1)\n",
            "Requirement already satisfied: itsdangerous>=2.1.2 in c:\\users\\asus\\appdata\\local\\packages\\pythonsoftwarefoundation.python.3.11_qbz5n2kfra8p0\\localcache\\local-packages\\python311\\site-packages (from Flask<4->mlflow) (2.1.2)\n",
            "Requirement already satisfied: blinker>=1.6.2 in c:\\users\\asus\\appdata\\local\\packages\\pythonsoftwarefoundation.python.3.11_qbz5n2kfra8p0\\localcache\\local-packages\\python311\\site-packages (from Flask<4->mlflow) (1.7.0)\n",
            "Requirement already satisfied: gitdb<5,>=4.0.1 in c:\\users\\asus\\appdata\\local\\packages\\pythonsoftwarefoundation.python.3.11_qbz5n2kfra8p0\\localcache\\local-packages\\python311\\site-packages (from gitpython<4,>=2.1.0->mlflow) (4.0.11)\n",
            "Requirement already satisfied: zipp>=0.5 in c:\\users\\asus\\appdata\\local\\packages\\pythonsoftwarefoundation.python.3.11_qbz5n2kfra8p0\\localcache\\local-packages\\python311\\site-packages (from importlib-metadata!=4.7.0,<8,>=3.7.0->mlflow) (3.17.0)\n",
            "Requirement already satisfied: MarkupSafe>=2.0 in c:\\users\\asus\\appdata\\local\\packages\\pythonsoftwarefoundation.python.3.11_qbz5n2kfra8p0\\localcache\\local-packages\\python311\\site-packages (from Jinja2<4,>=3.0->mlflow) (2.1.5)\n",
            "Requirement already satisfied: contourpy>=1.0.1 in c:\\users\\asus\\appdata\\local\\packages\\pythonsoftwarefoundation.python.3.11_qbz5n2kfra8p0\\localcache\\local-packages\\python311\\site-packages (from matplotlib<4->mlflow) (1.2.0)\n",
            "Requirement already satisfied: cycler>=0.10 in c:\\users\\asus\\appdata\\local\\packages\\pythonsoftwarefoundation.python.3.11_qbz5n2kfra8p0\\localcache\\local-packages\\python311\\site-packages (from matplotlib<4->mlflow) (0.12.1)\n",
            "Requirement already satisfied: fonttools>=4.22.0 in c:\\users\\asus\\appdata\\local\\packages\\pythonsoftwarefoundation.python.3.11_qbz5n2kfra8p0\\localcache\\local-packages\\python311\\site-packages (from matplotlib<4->mlflow) (4.49.0)\n",
            "Requirement already satisfied: kiwisolver>=1.3.1 in c:\\users\\asus\\appdata\\local\\packages\\pythonsoftwarefoundation.python.3.11_qbz5n2kfra8p0\\localcache\\local-packages\\python311\\site-packages (from matplotlib<4->mlflow) (1.4.5)\n",
            "Requirement already satisfied: pillow>=8 in c:\\users\\asus\\appdata\\local\\packages\\pythonsoftwarefoundation.python.3.11_qbz5n2kfra8p0\\localcache\\local-packages\\python311\\site-packages (from matplotlib<4->mlflow) (10.2.0)\n",
            "Requirement already satisfied: pyparsing>=2.3.1 in c:\\users\\asus\\appdata\\local\\packages\\pythonsoftwarefoundation.python.3.11_qbz5n2kfra8p0\\localcache\\local-packages\\python311\\site-packages (from matplotlib<4->mlflow) (3.1.1)\n",
            "Requirement already satisfied: python-dateutil>=2.7 in c:\\users\\asus\\appdata\\local\\packages\\pythonsoftwarefoundation.python.3.11_qbz5n2kfra8p0\\localcache\\local-packages\\python311\\site-packages (from matplotlib<4->mlflow) (2.8.2)\n",
            "Requirement already satisfied: tzdata>=2022.7 in c:\\users\\asus\\appdata\\local\\packages\\pythonsoftwarefoundation.python.3.11_qbz5n2kfra8p0\\localcache\\local-packages\\python311\\site-packages (from pandas<3->mlflow) (2024.1)\n",
            "Requirement already satisfied: six in c:\\users\\asus\\appdata\\local\\packages\\pythonsoftwarefoundation.python.3.11_qbz5n2kfra8p0\\localcache\\local-packages\\python311\\site-packages (from querystring-parser<2->mlflow) (1.16.0)\n",
            "Requirement already satisfied: charset-normalizer<4,>=2 in c:\\users\\asus\\appdata\\local\\packages\\pythonsoftwarefoundation.python.3.11_qbz5n2kfra8p0\\localcache\\local-packages\\python311\\site-packages (from requests<3,>=2.17.3->mlflow) (3.3.2)\n",
            "Requirement already satisfied: idna<4,>=2.5 in c:\\users\\asus\\appdata\\local\\packages\\pythonsoftwarefoundation.python.3.11_qbz5n2kfra8p0\\localcache\\local-packages\\python311\\site-packages (from requests<3,>=2.17.3->mlflow) (3.6)\n",
            "Requirement already satisfied: certifi>=2017.4.17 in c:\\users\\asus\\appdata\\local\\packages\\pythonsoftwarefoundation.python.3.11_qbz5n2kfra8p0\\localcache\\local-packages\\python311\\site-packages (from requests<3,>=2.17.3->mlflow) (2024.2.2)\n",
            "Requirement already satisfied: joblib>=1.2.0 in c:\\users\\asus\\appdata\\local\\packages\\pythonsoftwarefoundation.python.3.11_qbz5n2kfra8p0\\localcache\\local-packages\\python311\\site-packages (from scikit-learn<2->mlflow) (1.3.2)\n",
            "Requirement already satisfied: threadpoolctl>=2.0.0 in c:\\users\\asus\\appdata\\local\\packages\\pythonsoftwarefoundation.python.3.11_qbz5n2kfra8p0\\localcache\\local-packages\\python311\\site-packages (from scikit-learn<2->mlflow) (3.3.0)\n",
            "Requirement already satisfied: greenlet!=0.4.17 in c:\\users\\asus\\appdata\\local\\packages\\pythonsoftwarefoundation.python.3.11_qbz5n2kfra8p0\\localcache\\local-packages\\python311\\site-packages (from sqlalchemy<3,>=1.4.0->mlflow) (3.0.3)\n",
            "Requirement already satisfied: smmap<6,>=3.0.1 in c:\\users\\asus\\appdata\\local\\packages\\pythonsoftwarefoundation.python.3.11_qbz5n2kfra8p0\\localcache\\local-packages\\python311\\site-packages (from gitdb<5,>=4.0.1->gitpython<4,>=2.1.0->mlflow) (5.0.1)\n"
          ]
        }
      ],
      "source": [
        "!pip install mlflow"
      ]
    },
    {
      "cell_type": "code",
      "execution_count": 9,
      "metadata": {},
      "outputs": [],
      "source": [
        "import mlflow"
      ]
    },
    {
      "cell_type": "markdown",
      "metadata": {
        "id": "xg9lvkNJVs_b"
      },
      "source": [
        "**Importing train, validation and test set**"
      ]
    },
    {
      "cell_type": "code",
      "execution_count": 2,
      "metadata": {
        "id": "PXaMIeH6AtgU"
      },
      "outputs": [],
      "source": [
        "train_data = pd.read_csv(\"train.csv\")\n",
        "validation_data=pd.read_csv(\"test.csv\")\n",
        "test_data=pd.read_csv(\"validation.csv\")"
      ]
    },
    {
      "cell_type": "code",
      "execution_count": 3,
      "metadata": {},
      "outputs": [],
      "source": [
        "from sklearn.metrics import auc\n",
        "def aucpr_socre(true_labels, predicted_labels):\n",
        "    pre,re,_=precision_recall_curve(true_labels, predicted_labels)\n",
        "    aucpr= auc(re,pre)\n",
        "    return aucpr\n"
      ]
    },
    {
      "cell_type": "markdown",
      "metadata": {
        "id": "jyGm76keV0r4"
      },
      "source": [
        "**Assigning labels, vectorizing the text data, applying TF-IDF**"
      ]
    },
    {
      "cell_type": "code",
      "execution_count": 4,
      "metadata": {
        "id": "k7zF0zu9MEuc"
      },
      "outputs": [],
      "source": [
        "# Assign features and labels\n",
        "X_train = train_data['processed_text']\n",
        "y_train = train_data['spam']\n",
        "X_val = validation_data['processed_text']\n",
        "y_val = validation_data['spam']\n",
        "\n",
        "X_test = test_data['processed_text']\n",
        "y_test = test_data['spam']\n",
        "\n",
        "X_train = X_train.fillna('')\n",
        "\n",
        "# Vectorize the text data using CountVectorizer\n",
        "vectorizer = CountVectorizer()\n",
        "X_train_counts = vectorizer.fit_transform(X_train)\n",
        "X_val_counts = vectorizer.transform(X_val)\n",
        "X_test_counts = vectorizer.transform(X_test)\n",
        "\n",
        "# Apply TF-IDF transformation\n",
        "tfidf_transformer = TfidfTransformer()\n",
        "X_train_vec = tfidf_transformer.fit_transform(X_train_counts)\n",
        "X_val_vec = tfidf_transformer.transform(X_val_counts)\n",
        "X_test_vec = tfidf_transformer.transform(X_test_counts)\n",
        "\n",
        "\n"
      ]
    },
    {
      "cell_type": "markdown",
      "metadata": {
        "id": "OVKwvI5KWFmc"
      },
      "source": [
        "**Random Forest**"
      ]
    },
    {
      "cell_type": "code",
      "execution_count": 5,
      "metadata": {
        "colab": {
          "base_uri": "https://localhost:8080/"
        },
        "id": "XehYEAMAMePz",
        "outputId": "888a36ea-13bb-4b69-e9d7-e55033e0a9b3"
      },
      "outputs": [
        {
          "name": "stdout",
          "output_type": "stream",
          "text": [
            "Random Forest Validation Metrics:\n",
            "Accuracy: 0.9890310786106032\n",
            "Precision: 0.9894736842105263\n",
            "Recall: 0.9894736842105263\n",
            "\n",
            "Confusion Matrix:\n",
            "[[259   3]\n",
            " [  3 282]]\n"
          ]
        }
      ],
      "source": [
        "from sklearn.metrics import confusion_matrix\n",
        "\n",
        "# Random Forest\n",
        "rf_classifier = RandomForestClassifier()\n",
        "rf_classifier.fit(X_train_vec, y_train)\n",
        "rf_predictions = rf_classifier.predict(X_test_vec)\n",
        "\n",
        "rf_accuracy = accuracy_score(y_test, rf_predictions)\n",
        "rf_precision = precision_score(y_test, rf_predictions)\n",
        "rf_recall = recall_score(y_test, rf_predictions)\n",
        "\n",
        "print(\"Random Forest Validation Metrics:\")\n",
        "print(\"Accuracy:\", rf_accuracy)\n",
        "print(\"Precision:\", rf_precision)\n",
        "print(\"Recall:\", rf_recall)\n",
        "\n",
        "# Confusion Matrix\n",
        "conf_matrix = confusion_matrix(y_test, rf_predictions)\n",
        "print(\"\\nConfusion Matrix:\")\n",
        "print(conf_matrix)\n"
      ]
    },
    {
      "cell_type": "markdown",
      "metadata": {
        "id": "w_nuLSFcWJfT"
      },
      "source": [
        "**Hyperparameter Tuning**"
      ]
    },
    {
      "cell_type": "code",
      "execution_count": 6,
      "metadata": {
        "colab": {
          "base_uri": "https://localhost:8080/"
        },
        "id": "TqNem1azNODB",
        "outputId": "e290c284-0e57-436a-f5e2-16e483fe0fea"
      },
      "outputs": [
        {
          "name": "stdout",
          "output_type": "stream",
          "text": [
            "\n",
            "Random Forest Best Parameters: {'max_depth': None, 'n_estimators': 200}\n",
            "Random Forest Best Score: 0.9617514595496248\n"
          ]
        }
      ],
      "source": [
        "rf_param_grid = {'n_estimators': [100, 200, 300],\n",
        "                 'max_depth': [None, 10, 20]}\n",
        "\n",
        "rf_grid_search = GridSearchCV(RandomForestClassifier(), rf_param_grid, cv=5, n_jobs=-1)\n",
        "rf_grid_search.fit(X_val_vec, y_val)\n",
        "\n",
        "print(\"\\nRandom Forest Best Parameters:\", rf_grid_search.best_params_)\n",
        "print(\"Random Forest Best Score:\", rf_grid_search.best_score_)"
      ]
    },
    {
      "cell_type": "markdown",
      "metadata": {
        "id": "4iHE5WS5WPbR"
      },
      "source": [
        "**Fitting the best hyperparameters values and checking the performance of the model**"
      ]
    },
    {
      "cell_type": "code",
      "execution_count": 7,
      "metadata": {
        "colab": {
          "base_uri": "https://localhost:8080/"
        },
        "id": "Kk9nEfSoLmjY",
        "outputId": "d342039e-cf44-479d-ac74-5fdec8e33fe5"
      },
      "outputs": [
        {
          "name": "stdout",
          "output_type": "stream",
          "text": [
            "Random Forest Validation Metrics:\n",
            "Accuracy: 0.9890310786106032\n",
            "Precision: 0.9860627177700348\n",
            "Recall: 0.9929824561403509\n",
            "\n",
            "Confusion Matrix:\n",
            "[[258   4]\n",
            " [  2 283]]\n"
          ]
        }
      ],
      "source": [
        "best_rf = RandomForestClassifier(n_estimators=rf_grid_search.best_params_['n_estimators'],\n",
        "                                  max_depth=rf_grid_search.best_params_['max_depth'])\n",
        "\n",
        "# Fit models to training data\n",
        "best_rf.fit(X_train_vec, y_train)\n",
        "\n",
        "# Predict on test set\n",
        "rf_test_predictions = best_rf.predict(X_test_vec)\n",
        "# Evaluate performance on test set\n",
        "rf_test_accuracy = accuracy_score(y_test, rf_test_predictions)\n",
        "\n",
        "rf_test_precision = precision_score(y_test, rf_test_predictions)\n",
        "rf_test_recall = recall_score(y_test, rf_test_predictions)\n",
        "\n",
        "print(\"Random Forest Validation Metrics:\")\n",
        "print(\"Accuracy:\", rf_test_accuracy)\n",
        "print(\"Precision:\", rf_test_precision)\n",
        "print(\"Recall:\", rf_test_recall)\n",
        "\n",
        "# Confusion Matrix\n",
        "conf_matrix = confusion_matrix(y_test, rf_test_predictions)\n",
        "print(\"\\nConfusion Matrix:\")\n",
        "print(conf_matrix)\n"
      ]
    },
    {
      "cell_type": "code",
      "execution_count": 10,
      "metadata": {},
      "outputs": [
        {
          "name": "stdout",
          "output_type": "stream",
          "text": [
            "Random Forest Classifier model (Area under Precision_Recall Curve=0.99):\n"
          ]
        }
      ],
      "source": [
        "\n",
        "# Assuming X_train_vec, X_test_vec, y_train, y_test, eval_metrics are defined\n",
        "\n",
        "with mlflow.start_run(nested=True):\n",
        "    # Define and train the model\n",
        "    best_rf = RandomForestClassifier(n_estimators=rf_grid_search.best_params_['n_estimators'],\n",
        "                                  max_depth=rf_grid_search.best_params_['max_depth'])\n",
        "    \n",
        "    best_rf.fit(X_train_vec,y_train)\n",
        "\n",
        "    # Predict on test set\n",
        "    predicted_ = best_rf.predict(X_test_vec)\n",
        "\n",
        "    # Evaluate the model\n",
        "    aucpr = aucpr_socre(y_test, predicted_)\n",
        "\n",
        "    # Log evaluation metric\n",
        "    mlflow.log_metric(\"Area under Precision Recall Curve\", aucpr)\n",
        "\n",
        "    # Print evaluation metric\n",
        "    print(\"Random Forest Classifier model (Area under Precision_Recall Curve={:.2f}):\".format(aucpr))\n",
        "\n",
        "    # Log the model\n",
        "    tracking_url_type_store = urlparse(mlflow.get_tracking_uri()).scheme\n",
        "\n",
        "    if tracking_url_type_store != \"file\":\n",
        "        # If not storing in a local file, register the model with a name\n",
        "        mlflow.sklearn.log_model(best_rf, \"model\", registered_model_name=\"Random Forest Classifier\")\n",
        "    else:\n",
        "        # If storing locally, simply log the model\n",
        "        mlflow.sklearn.log_model(best_rf, \"model\")\n",
        "\n",
        "    # End MLflow run\n",
        "    mlflow.end_run()"
      ]
    },
    {
      "cell_type": "markdown",
      "metadata": {
        "id": "9nJcKF2VWbYT"
      },
      "source": [
        "**Logistic Regression**"
      ]
    },
    {
      "cell_type": "code",
      "execution_count": 11,
      "metadata": {
        "colab": {
          "base_uri": "https://localhost:8080/"
        },
        "id": "BmZ9mffoQX0c",
        "outputId": "477498eb-5b9b-43c3-d4f7-136e8588dbee"
      },
      "outputs": [
        {
          "name": "stdout",
          "output_type": "stream",
          "text": [
            "\n",
            "Logistic Regression Validation Metrics:\n",
            "Accuracy: 0.9835466179159049\n",
            "Precision: 0.9758620689655172\n",
            "Recall: 0.9929824561403509\n",
            "\n",
            "Confusion Matrix:\n",
            "[[255   7]\n",
            " [  2 283]]\n"
          ]
        }
      ],
      "source": [
        "# Logistic Regression\n",
        "lr_classifier = LogisticRegression()\n",
        "lr_classifier.fit(X_train_vec, y_train)\n",
        "lr_predictions = lr_classifier.predict(X_test_vec)\n",
        "\n",
        "lr_accuracy = accuracy_score(y_test, lr_predictions)\n",
        "lr_precision = precision_score(y_test, lr_predictions)\n",
        "lr_recall = recall_score(y_test, lr_predictions)\n",
        "\n",
        "print(\"\\nLogistic Regression Validation Metrics:\")\n",
        "print(\"Accuracy:\", lr_accuracy)\n",
        "print(\"Precision:\", lr_precision)\n",
        "print(\"Recall:\", lr_recall)\n",
        "# Confusion Matrix\n",
        "conf_matrix = confusion_matrix(y_test, lr_predictions)\n",
        "print(\"\\nConfusion Matrix:\")\n",
        "print(conf_matrix)\n"
      ]
    },
    {
      "cell_type": "markdown",
      "metadata": {
        "id": "2F14MGsIWiOr"
      },
      "source": [
        "**Hyperparameter Tuning**"
      ]
    },
    {
      "cell_type": "code",
      "execution_count": 13,
      "metadata": {
        "colab": {
          "base_uri": "https://localhost:8080/"
        },
        "id": "RH4ZksvCQ-Pe",
        "outputId": "3d3fad0c-415e-4590-b80f-fdd62ab32a86"
      },
      "outputs": [
        {
          "name": "stdout",
          "output_type": "stream",
          "text": [
            "\n",
            "Logistic Regression Best Parameters: {'C': 10}\n",
            "Logistic Regression Best Score: 0.9817681401167639\n"
          ]
        }
      ],
      "source": [
        "# Logistic Regression\n",
        "lr_param_grid = {'C': [0.001, 0.01, 0.1, 1, 10, 100]}\n",
        "\n",
        "lr_grid_search = GridSearchCV(LogisticRegression(), lr_param_grid, cv=5, n_jobs=-1)\n",
        "lr_grid_search.fit(X_val_vec, y_val)\n",
        "\n",
        "print(\"\\nLogistic Regression Best Parameters:\", lr_grid_search.best_params_)\n",
        "print(\"Logistic Regression Best Score:\", lr_grid_search.best_score_)"
      ]
    },
    {
      "cell_type": "markdown",
      "metadata": {
        "id": "wv1dgoU0WsMX"
      },
      "source": [
        "**Fitting the best hyperparameters values and checking the performance of the model**"
      ]
    },
    {
      "cell_type": "code",
      "execution_count": 14,
      "metadata": {
        "colab": {
          "base_uri": "https://localhost:8080/"
        },
        "id": "--PgB2svRC4-",
        "outputId": "267a3684-8911-482b-9238-1dac4bda6f6c"
      },
      "outputs": [
        {
          "name": "stdout",
          "output_type": "stream",
          "text": [
            "\n",
            "Logistic Regression Validation Metrics:\n",
            "Accuracy: 0.9853747714808044\n",
            "Precision: 0.9792387543252595\n",
            "Recall: 0.9929824561403509\n",
            "\n",
            "Confusion Matrix:\n",
            "[[256   6]\n",
            " [  2 283]]\n"
          ]
        }
      ],
      "source": [
        "best_lr = LogisticRegression(C=lr_grid_search.best_params_['C'])\n",
        "\n",
        "best_lr.fit(X_train_vec, y_train)\n",
        "lr_test_predictions = best_lr.predict(X_test_vec)\n",
        "\n",
        "lr_test_accuracy = accuracy_score(y_test, lr_test_predictions)\n",
        "lr_test_precision = precision_score(y_test, lr_test_predictions)\n",
        "lr_test_recall = recall_score(y_test, lr_test_predictions)\n",
        "\n",
        "print(\"\\nLogistic Regression Validation Metrics:\")\n",
        "print(\"Accuracy:\", lr_test_accuracy)\n",
        "print(\"Precision:\", lr_test_precision)\n",
        "print(\"Recall:\", lr_test_recall)\n",
        "\n",
        "\n",
        "# Confusion Matrix\n",
        "conf_matrix = confusion_matrix(y_test, lr_test_predictions)\n",
        "print(\"\\nConfusion Matrix:\")\n",
        "print(conf_matrix)"
      ]
    },
    {
      "cell_type": "code",
      "execution_count": 16,
      "metadata": {},
      "outputs": [
        {
          "name": "stdout",
          "output_type": "stream",
          "text": [
            "Logistic Regression model (Area under Precision_Recall Curve=0.99):\n"
          ]
        },
        {
          "name": "stderr",
          "output_type": "stream",
          "text": [
            "C:\\Program Files\\WindowsApps\\PythonSoftwareFoundation.Python.3.11_3.11.2288.0_x64__qbz5n2kfra8p0\\Lib\\site-packages\\_distutils_hack\\__init__.py:18: UserWarning: Distutils was imported before Setuptools, but importing Setuptools also replaces the `distutils` module in `sys.modules`. This may lead to undesirable behaviors or errors. To avoid these issues, avoid using distutils directly, ensure that setuptools is installed in the traditional way (e.g. not an editable install), and/or make sure that setuptools is always imported before distutils.\n",
            "  warnings.warn(\n",
            "C:\\Program Files\\WindowsApps\\PythonSoftwareFoundation.Python.3.11_3.11.2288.0_x64__qbz5n2kfra8p0\\Lib\\site-packages\\_distutils_hack\\__init__.py:33: UserWarning: Setuptools is replacing distutils.\n",
            "  warnings.warn(\"Setuptools is replacing distutils.\")\n"
          ]
        }
      ],
      "source": [
        "# Assuming X_train_vec, X_test_vec, y_train, y_test, eval_metrics are defined\n",
        "\n",
        "with mlflow.start_run():\n",
        "    # Define and train the model\n",
        "    best_lr = LogisticRegression(C=lr_grid_search.best_params_['C'])\n",
        "    best_lr.fit(X_train_vec, y_train)\n",
        "\n",
        "    # Predict on test set\n",
        "    predicted_ = best_lr.predict(X_test_vec)\n",
        "\n",
        "    # Evaluate the model\n",
        "    aucpr = aucpr_socre(y_test, predicted_)\n",
        "\n",
        "    # Log evaluation metric\n",
        "    mlflow.log_metric(\"Area under Precision Recall Curve\", aucpr)\n",
        "\n",
        "    # Print evaluation metric\n",
        "    print(\"Logistic Regression model (Area under Precision_Recall Curve={:.2f}):\".format(aucpr))\n",
        "\n",
        "    # Log the model\n",
        "    tracking_url_type_store = urlparse(mlflow.get_tracking_uri()).scheme\n",
        "\n",
        "    if tracking_url_type_store != \"file\":\n",
        "        # If not storing in a local file, register the model with a name\n",
        "        mlflow.sklearn.log_model(best_lr, \"model\", registered_model_name=\"Logistic Regression\")\n",
        "    else:\n",
        "        # If storing locally, simply log the model\n",
        "        mlflow.sklearn.log_model(best_lr, \"model\")\n",
        "\n",
        "    # End MLflow run\n",
        "    mlflow.end_run()"
      ]
    },
    {
      "cell_type": "markdown",
      "metadata": {
        "id": "UeugwqO-W28V"
      },
      "source": [
        "**Support Vector Machine**"
      ]
    },
    {
      "cell_type": "code",
      "execution_count": 18,
      "metadata": {
        "colab": {
          "base_uri": "https://localhost:8080/"
        },
        "id": "n0v4Sc9KSESM",
        "outputId": "a19d155f-6c82-46b9-be0c-0b9a4b0458c3"
      },
      "outputs": [
        {
          "name": "stdout",
          "output_type": "stream",
          "text": [
            "\n",
            "SVM Validation Metrics:\n",
            "Accuracy: 0.9872029250457038\n",
            "Precision: 0.9826388888888888\n",
            "Recall: 0.9929824561403509\n",
            "\n",
            "Confusion Matrix:\n",
            "[[257   5]\n",
            " [  2 283]]\n"
          ]
        }
      ],
      "source": [
        "# SVM\n",
        "svm_classifier = SVC()\n",
        "svm_classifier.fit(X_train_vec, y_train)\n",
        "svm_predictions = svm_classifier.predict(X_test_vec)\n",
        "\n",
        "svm_accuracy = accuracy_score(y_test, svm_predictions)\n",
        "svm_precision = precision_score(y_test, svm_predictions)\n",
        "svm_recall = recall_score(y_test, svm_predictions)\n",
        "\n",
        "print(\"\\nSVM Validation Metrics:\")\n",
        "print(\"Accuracy:\", svm_accuracy)\n",
        "print(\"Precision:\", svm_precision)\n",
        "print(\"Recall:\", svm_recall)\n",
        "# Confusion Matrix\n",
        "conf_matrix = confusion_matrix(y_test, svm_predictions)\n",
        "print(\"\\nConfusion Matrix:\")\n",
        "print(conf_matrix)"
      ]
    },
    {
      "cell_type": "markdown",
      "metadata": {
        "id": "y-beyIswW7xd"
      },
      "source": [
        "**Hyperparameter Tuning**"
      ]
    },
    {
      "cell_type": "code",
      "execution_count": 17,
      "metadata": {
        "colab": {
          "base_uri": "https://localhost:8080/"
        },
        "id": "izlUrpxQSIvZ",
        "outputId": "68d472db-c656-49f6-cca2-ccf2bd8a575b"
      },
      "outputs": [
        {
          "name": "stdout",
          "output_type": "stream",
          "text": [
            "\n",
            "SVM Best Parameters: {'C': 5, 'kernel': 'rbf'}\n",
            "SVM Best Score: 0.9835863219349459\n"
          ]
        }
      ],
      "source": [
        "# SVM\n",
        "svm_param_grid = {'C': [0.1, 1, 5],\n",
        "                  'kernel': ['linear', 'rbf']}\n",
        "\n",
        "svm_grid_search = GridSearchCV(SVC(), svm_param_grid, cv=5, n_jobs=-1)\n",
        "svm_grid_search.fit(X_val_vec, y_val)\n",
        "\n",
        "print(\"\\nSVM Best Parameters:\", svm_grid_search.best_params_)\n",
        "print(\"SVM Best Score:\", svm_grid_search.best_score_)"
      ]
    },
    {
      "cell_type": "markdown",
      "metadata": {
        "id": "P9PXt2pMXArN"
      },
      "source": [
        "**Fitting the best hyperparameters values and checking the performance of the model**"
      ]
    },
    {
      "cell_type": "code",
      "execution_count": null,
      "metadata": {
        "colab": {
          "base_uri": "https://localhost:8080/"
        },
        "id": "hhOFoE75SMJa",
        "outputId": "97716b86-0a2c-4728-af7f-a4de177d3e69"
      },
      "outputs": [
        {
          "name": "stdout",
          "output_type": "stream",
          "text": [
            "\n",
            "SVM Validation Metrics:\n",
            "Accuracy: 0.9872029250457038\n",
            "Precision: 0.9826388888888888\n",
            "Recall: 0.9929824561403509\n",
            "\n",
            "Confusion Matrix:\n",
            "[[257   5]\n",
            " [  2 283]]\n"
          ]
        }
      ],
      "source": [
        "best_svm = SVC(C=svm_grid_search.best_params_['C'],\n",
        "               kernel=svm_grid_search.best_params_['kernel'])\n",
        "best_svm.fit(X_train_vec, y_train)\n",
        "svm_test_predictions = best_svm.predict(X_test_vec)\n",
        "svm_test_accuracy = accuracy_score(y_test, svm_test_predictions)\n",
        "svm_test_precision = precision_score(y_test, svm_test_predictions)\n",
        "svm_test_recall = recall_score(y_test, svm_test_predictions)\n",
        "\n",
        "print(\"\\nSVM Validation Metrics:\")\n",
        "print(\"Accuracy:\", svm_test_accuracy)\n",
        "print(\"Precision:\", svm_test_precision)\n",
        "print(\"Recall:\", svm_test_recall)\n",
        "# Confusion Matrix\n",
        "conf_matrix = confusion_matrix(y_test, svm_test_predictions)\n",
        "print(\"\\nConfusion Matrix:\")\n",
        "print(conf_matrix)"
      ]
    },
    {
      "cell_type": "code",
      "execution_count": 19,
      "metadata": {},
      "outputs": [
        {
          "name": "stdout",
          "output_type": "stream",
          "text": [
            "SVM Classifier model (Area under Precision_Recall Curve=0.987939):\n"
          ]
        },
        {
          "name": "stderr",
          "output_type": "stream",
          "text": [
            "C:\\Program Files\\WindowsApps\\PythonSoftwareFoundation.Python.3.11_3.11.2288.0_x64__qbz5n2kfra8p0\\Lib\\site-packages\\_distutils_hack\\__init__.py:18: UserWarning: Distutils was imported before Setuptools, but importing Setuptools also replaces the `distutils` module in `sys.modules`. This may lead to undesirable behaviors or errors. To avoid these issues, avoid using distutils directly, ensure that setuptools is installed in the traditional way (e.g. not an editable install), and/or make sure that setuptools is always imported before distutils.\n",
            "  warnings.warn(\n",
            "C:\\Program Files\\WindowsApps\\PythonSoftwareFoundation.Python.3.11_3.11.2288.0_x64__qbz5n2kfra8p0\\Lib\\site-packages\\_distutils_hack\\__init__.py:33: UserWarning: Setuptools is replacing distutils.\n",
            "  warnings.warn(\"Setuptools is replacing distutils.\")\n"
          ]
        }
      ],
      "source": [
        "with mlflow.start_run():\n",
        "    best_svm = SVC(C=svm_grid_search.best_params_['C'],\n",
        "               kernel=svm_grid_search.best_params_['kernel'])\n",
        "    best_svm.fit(X_train_vec, y_train)\n",
        "    \n",
        "\n",
        "    predicted_ = best_svm.predict(X_test_vec)\n",
        "\n",
        "    aucpr_val = aucpr_socre(y_test, predicted_)\n",
        "\n",
        "    print(\"SVM Classifier model (Area under Precision_Recall Curve={:f}):\".format(aucpr))\n",
        "\n",
        "    mlflow.log_param(\"Area under Precision Recall Curve\", aucpr_val)\n",
        "\n",
        "\n",
        "    tracking_url_type_store = urlparse(mlflow.get_tracking_uri()).scheme\n",
        "\n",
        "    # Model regi\n",
        "    if tracking_url_type_store != \"file\":\n",
        "        mlflow.sklearn.log_model(best_svm, \"model\", registered_model_name=\"SVM Classifier\")\n",
        "    else:\n",
        "        mlflow.sklearn.log_model(best_svm, \"model\")\n",
        "mlflow.end_run()"
      ]
    },
    {
      "cell_type": "markdown",
      "metadata": {
        "id": "5Nz2fk2SbpEv"
      },
      "source": [
        "**From the Above 3 models, the performance of Support Vector Machine is better than Random Forest and Logistic Regression**"
      ]
    }
  ],
  "metadata": {
    "colab": {
      "provenance": []
    },
    "kernelspec": {
      "display_name": "Python 3",
      "name": "python3"
    },
    "language_info": {
      "codemirror_mode": {
        "name": "ipython",
        "version": 3
      },
      "file_extension": ".py",
      "mimetype": "text/x-python",
      "name": "python",
      "nbconvert_exporter": "python",
      "pygments_lexer": "ipython3",
      "version": "3.11.8"
    }
  },
  "nbformat": 4,
  "nbformat_minor": 0
}
